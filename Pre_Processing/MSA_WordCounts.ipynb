{
 "cells": [
  {
   "cell_type": "code",
   "execution_count": null,
   "metadata": {},
   "outputs": [],
   "source": [
    "import os\n",
    "import os.path\n",
    "Ency_folder = \"/Users/samanthacreel/Documents/Dissertation/ZAEBUC_spellcorrected/Arabic_spellcorrected_30-1-2021\"\n",
    "ar_file_list = os.listdir(\"/Users/samanthacreel/Documents/Dissertation/ZAEBUC_spellcorrected/Arabic_spellcorrected_30-1-2021\")\n",
    "\n",
    "ar_file_names = []\n",
    "\n",
    "for file in ar_file_list:\n",
    "    if \".txt\" in file:\n",
    "        ar_file_names.append(file)\n",
    "print(ar_file_names[0:5])\n",
    "print(len(ar_file_names))"
   ]
  }
 ],
 "metadata": {
  "kernelspec": {
   "display_name": "Python 3",
   "language": "python",
   "name": "python3"
  },
  "language_info": {
   "codemirror_mode": {
    "name": "ipython",
    "version": 3
   },
   "file_extension": ".py",
   "mimetype": "text/x-python",
   "name": "python",
   "nbconvert_exporter": "python",
   "pygments_lexer": "ipython3",
   "version": "3.8.1"
  }
 },
 "nbformat": 4,
 "nbformat_minor": 4
}
