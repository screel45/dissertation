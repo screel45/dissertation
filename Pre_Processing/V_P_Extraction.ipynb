{
 "cells": [
  {
   "cell_type": "code",
   "execution_count": 11,
   "metadata": {},
   "outputs": [],
   "source": [
    "Encyclopedia = []\n",
    "with open(\"/Users/samanthacreel/Documents/Dissertation/Corpora/MSA_Corpus/araEncy.txt\", encoding='utf8') as f:\n",
    "    Encyclopedia = f.read().splitlines()\n",
    "\n",
    "#print(len(Encyclopedia))   "
   ]
  },
  {
   "cell_type": "code",
   "execution_count": 12,
   "metadata": {},
   "outputs": [
    {
     "name": "stdout",
     "output_type": "stream",
     "text": [
      "['اللغات/DTNN_P_F وآدابها/NN$_P_F', 'الموسيقى/DTNN_S_F و/CC السينما/DTNN_S_M و/CC المسرح/DTNN_S_M ›/NUM السينما/DTNN_S_F', 'سينما/VBF_3_P_M', 'é/ABBR', 'السينما/DTNN_S_F']\n"
     ]
    }
   ],
   "source": [
    "print(Encyclopedia[0:5])"
   ]
  },
  {
   "cell_type": "code",
   "execution_count": 15,
   "metadata": {},
   "outputs": [
    {
     "name": "stdout",
     "output_type": "stream",
     "text": [
      "[['اللغات/DTNN_P_F', 'وآدابها/NN$_P_F'], ['الموسيقى/DTNN_S_F', 'و/CC', 'السينما/DTNN_S_M', 'و/CC', 'المسرح/DTNN_S_M', '›/NUM', 'السينما/DTNN_S_F'], ['سينما/VBF_3_P_M'], ['é/ABBR'], ['السينما/DTNN_S_F']]\n"
     ]
    }
   ],
   "source": [
    "Encyclopedia_split = []\n",
    "for line in Encyclopedia:\n",
    "    Encyclopedia_split.append(line.split())\n",
    "    \n",
    "print(Encyclopedia_split[0:5])"
   ]
  },
  {
   "cell_type": "code",
   "execution_count": 16,
   "metadata": {},
   "outputs": [
    {
     "name": "stdout",
     "output_type": "stream",
     "text": [
      "['اللغات/DTNN_P_F', 'وآدابها/NN$_P_F', 'الموسيقى/DTNN_S_F', 'و/CC', 'السينما/DTNN_S_M']\n"
     ]
    }
   ],
   "source": [
    "Ency = []\n",
    "\n",
    "for line in Encyclopedia_split:\n",
    "    for subline in line:\n",
    "        Ency.append(subline)\n",
    "print(Ency[0:5])"
   ]
  },
  {
   "cell_type": "code",
   "execution_count": null,
   "metadata": {},
   "outputs": [],
   "source": [
    "import re\n",
    "for word in Ency:\n",
    "    if "
   ]
  }
 ],
 "metadata": {
  "kernelspec": {
   "display_name": "Python 3",
   "language": "python",
   "name": "python3"
  },
  "language_info": {
   "codemirror_mode": {
    "name": "ipython",
    "version": 3
   },
   "file_extension": ".py",
   "mimetype": "text/x-python",
   "name": "python",
   "nbconvert_exporter": "python",
   "pygments_lexer": "ipython3",
   "version": "3.8.1"
  }
 },
 "nbformat": 4,
 "nbformat_minor": 4
}
