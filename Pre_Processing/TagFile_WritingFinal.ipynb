{
 "cells": [
  {
   "cell_type": "code",
   "execution_count": 1,
   "metadata": {},
   "outputs": [
    {
     "name": "stdout",
     "output_type": "stream",
     "text": [
      "['*\"/\"AUX *\"/\"IN', '*\"/\"VBD_1_S_N *\"/\"IN', '*\"/\"VBD$_1_S_N *\"/\"IN', '*\"/\"VBD_1_P_N *\"/\"IN', '*\"/\"VBD$_1_P_N *\"/\"IN', '*\"/\"VBD_2_S_M *\"/\"IN', '*\"/\"VBD$_2_S_M *\"/\"IN', '*\"/\"VBD_2_S_F *\"/\"IN', '*\"/\"VBD$_2_S_F *\"/\"IN', '*\"/\"VBD_2_D_N *\"/\"IN', '*\"/\"VBD$_2_D_N *\"/\"IN', '*\"/\"VBD_2_P_M *\"/\"IN', '*\"/\"VBD$_2_P_M *\"/\"IN', '*\"/\"VBD_2_P_F *\"/\"IN', '*\"/\"VBD$_2_P_F *\"/\"IN', '*\"/\"VBD_3_S_M *\"/\"IN', '*\"/\"VBD$_3_S_M *\"/\"IN', '*\"/\"VBD_3_S_F *\"/\"IN', '*\"/\"VBD$_3_S_F *\"/\"IN', '*\"/\"VBD_3_D_M *\"/\"IN', '*\"/\"VBD$_3_D_M *\"/\"IN', '*\"/\"VBD_3_D_F *\"/\"IN', '*\"/\"VBD$_3_D_F *\"/\"IN', '*\"/\"VBD_3_P_M *\"/\"IN', '*\"/\"VBD$_3_P_M *\"/\"IN', '*\"/\"VBD_3_P_F *\"/\"IN', '*\"/\"VBD$_3_P_F *\"/\"IN', '*\"/\"VBDP_1_S_N *\"/\"IN', '*\"/\"VBDP_1_P_N *\"/\"IN', '*\"/\"VBDP_2_S_M *\"/\"IN', '*\"/\"VBDP_2_S_F *\"/\"IN', '*\"/\"VBDP_2_D_N *\"/\"IN', '*\"/\"VBDP_2_P_M *\"/\"IN', '*\"/\"VBDP_2_P_F *\"/\"IN', 'VBDP_3_S_M', 'VBDP_3_S_F', 'VBDP_3_D_M', 'VBDP_3_D_F', 'VBDP_3_P_M', 'VBDP_3_P_F', 'VBZ_1_S_N', 'VBZ$_1_S_N', 'VBZ_1_P_N', 'VBZ$_1_P_N', 'VBZ_2_S_M', 'VBZ$_2_S_M', 'VBZ_2_S_F', 'VBZ$_2_S_F', 'VBZ_2_D_N', 'VBZ$_2_D_N', 'VBZ_2_P_M', 'VBZ$_2_P_M', 'VBZ_2_P_F', 'VBZ$_2_P_F', 'VBZ_3_S_M', 'VBZ$_3_S_M', 'VBZ_3_S_F', 'VBZ$_3_S_F', 'VBZ_3_D_M', 'VBZ$_3_D_M', 'VBZ_3_D_F', 'VBZ$_3_D_F', 'VBZ_3_P_M', 'VBZ$_3_P_M', 'VBZ_3_P_F', 'VBZ$_3_P_F', 'VBZP_1_S_N', 'VBZP_1_P_N', 'VBZP_2_S_M', 'VBZP_2_S_F', 'VBZP_2_D_N', 'VBZP_2_P_M', 'VBZP_2_P_F', 'VBZP_3_S_M', 'VBZP_3_S_F', 'VBZP_3_D_M', 'VBZP_3_D_F', 'VBZP_3_P_M', 'VBZP_3_P_F', 'VBF_1_S_N', 'VBF$_1_S_N', 'VBF_1_P_N', 'VBF$_1_P_N', 'VBF_2_S_M', 'VBF$_2_S_M', 'VBF_2_S_F', 'VBF$_2_S_F', 'VBF_2_D_N', 'VBF$_2_D_N', 'VBF_2_P_M', 'VBF$_2_P_M', 'VBF_2_P_F', 'VBF$_2_P_F', 'VBF_3_S_M', 'VBF$_3_S_M', 'VBF_3_S_F', 'VBF$_3_S_F', 'VBF_3_D_M', 'VBF$_3_D_M', 'VBF_3_D_F', 'VBF$_3_D_F', 'VBF_3_P_M', 'VBF$_3_P_M', 'VBF_3_P_F', 'VBF$_3_P_F', 'VBFP_1_S_N', 'VBFP_1_P_N', 'VBFP_2_S_M', 'VBFP_2_S_F', 'VBFP_2_D_N', 'VBFP_2_P_M', 'VBFP_2_P_F', 'VBFP_3_S_M', 'VBFP_3_S_F', 'VBFP_3_D_M', 'VBFP_3_D_F', 'VBFP_3_P_M', 'VBFP_3_P_F', 'VBI_2_S_M', 'VBI$_2_S_M', 'VBI_2_S_F', 'VBI$_2_S_F', 'VBI_2_D_N', 'VBI$_2_D_N', 'VBI_2_P_M', 'VBI$_2_P_M', 'VBI_2_P_F', 'VBI$_2_P_F']\n"
     ]
    }
   ],
   "source": [
    "uneditedtags = []\n",
    "with open(\"TagSample.txt\") as f:\n",
    "    uneditedtags = f.read().splitlines()\n",
    "print(uneditedtags)"
   ]
  },
  {
   "cell_type": "code",
   "execution_count": 2,
   "metadata": {},
   "outputs": [
    {
     "name": "stdout",
     "output_type": "stream",
     "text": [
      "['*\"/\"VBDP_3_S_M *\"/\"IN', '*\"/\"VBDP_3_S_F *\"/\"IN', '*\"/\"VBDP_3_D_M *\"/\"IN', '*\"/\"VBDP_3_D_F *\"/\"IN', '*\"/\"VBDP_3_P_M *\"/\"IN', '*\"/\"VBDP_3_P_F *\"/\"IN', '*\"/\"VBZ_1_S_N *\"/\"IN', '*\"/\"VBZ$_1_S_N *\"/\"IN', '*\"/\"VBZ_1_P_N *\"/\"IN', '*\"/\"VBZ$_1_P_N *\"/\"IN', '*\"/\"VBZ_2_S_M *\"/\"IN', '*\"/\"VBZ$_2_S_M *\"/\"IN', '*\"/\"VBZ_2_S_F *\"/\"IN', '*\"/\"VBZ$_2_S_F *\"/\"IN', '*\"/\"VBZ_2_D_N *\"/\"IN', '*\"/\"VBZ$_2_D_N *\"/\"IN', '*\"/\"VBZ_2_P_M *\"/\"IN', '*\"/\"VBZ$_2_P_M *\"/\"IN', '*\"/\"VBZ_2_P_F *\"/\"IN', '*\"/\"VBZ$_2_P_F *\"/\"IN', '*\"/\"VBZ_3_S_M *\"/\"IN', '*\"/\"VBZ$_3_S_M *\"/\"IN', '*\"/\"VBZ_3_S_F *\"/\"IN', '*\"/\"VBZ$_3_S_F *\"/\"IN', '*\"/\"VBZ_3_D_M *\"/\"IN', '*\"/\"VBZ$_3_D_M *\"/\"IN', '*\"/\"VBZ_3_D_F *\"/\"IN', '*\"/\"VBZ$_3_D_F *\"/\"IN', '*\"/\"VBZ_3_P_M *\"/\"IN', '*\"/\"VBZ$_3_P_M *\"/\"IN', '*\"/\"VBZ_3_P_F *\"/\"IN', '*\"/\"VBZ$_3_P_F *\"/\"IN', '*\"/\"VBZP_1_S_N *\"/\"IN', '*\"/\"VBZP_1_P_N *\"/\"IN', '*\"/\"VBZP_2_S_M *\"/\"IN', '*\"/\"VBZP_2_S_F *\"/\"IN', '*\"/\"VBZP_2_D_N *\"/\"IN', '*\"/\"VBZP_2_P_M *\"/\"IN', '*\"/\"VBZP_2_P_F *\"/\"IN', '*\"/\"VBZP_3_S_M *\"/\"IN', '*\"/\"VBZP_3_S_F *\"/\"IN', '*\"/\"VBZP_3_D_M *\"/\"IN', '*\"/\"VBZP_3_D_F *\"/\"IN', '*\"/\"VBZP_3_P_M *\"/\"IN', '*\"/\"VBZP_3_P_F *\"/\"IN', '*\"/\"VBF_1_S_N *\"/\"IN', '*\"/\"VBF$_1_S_N *\"/\"IN', '*\"/\"VBF_1_P_N *\"/\"IN', '*\"/\"VBF$_1_P_N *\"/\"IN', '*\"/\"VBF_2_S_M *\"/\"IN', '*\"/\"VBF$_2_S_M *\"/\"IN', '*\"/\"VBF_2_S_F *\"/\"IN', '*\"/\"VBF$_2_S_F *\"/\"IN', '*\"/\"VBF_2_D_N *\"/\"IN', '*\"/\"VBF$_2_D_N *\"/\"IN', '*\"/\"VBF_2_P_M *\"/\"IN', '*\"/\"VBF$_2_P_M *\"/\"IN', '*\"/\"VBF_2_P_F *\"/\"IN', '*\"/\"VBF$_2_P_F *\"/\"IN', '*\"/\"VBF_3_S_M *\"/\"IN', '*\"/\"VBF$_3_S_M *\"/\"IN', '*\"/\"VBF_3_S_F *\"/\"IN', '*\"/\"VBF$_3_S_F *\"/\"IN', '*\"/\"VBF_3_D_M *\"/\"IN', '*\"/\"VBF$_3_D_M *\"/\"IN', '*\"/\"VBF_3_D_F *\"/\"IN', '*\"/\"VBF$_3_D_F *\"/\"IN', '*\"/\"VBF_3_P_M *\"/\"IN', '*\"/\"VBF$_3_P_M *\"/\"IN', '*\"/\"VBF_3_P_F *\"/\"IN', '*\"/\"VBF$_3_P_F *\"/\"IN', '*\"/\"VBFP_1_S_N *\"/\"IN', '*\"/\"VBFP_1_P_N *\"/\"IN', '*\"/\"VBFP_2_S_M *\"/\"IN', '*\"/\"VBFP_2_S_F *\"/\"IN', '*\"/\"VBFP_2_D_N *\"/\"IN', '*\"/\"VBFP_2_P_M *\"/\"IN', '*\"/\"VBFP_2_P_F *\"/\"IN', '*\"/\"VBFP_3_S_M *\"/\"IN', '*\"/\"VBFP_3_S_F *\"/\"IN', '*\"/\"VBFP_3_D_M *\"/\"IN', '*\"/\"VBFP_3_D_F *\"/\"IN', '*\"/\"VBFP_3_P_M *\"/\"IN', '*\"/\"VBFP_3_P_F *\"/\"IN', '*\"/\"VBI_2_S_M *\"/\"IN', '*\"/\"VBI$_2_S_M *\"/\"IN', '*\"/\"VBI_2_S_F *\"/\"IN', '*\"/\"VBI$_2_S_F *\"/\"IN', '*\"/\"VBI_2_D_N *\"/\"IN', '*\"/\"VBI$_2_D_N *\"/\"IN', '*\"/\"VBI_2_P_M *\"/\"IN', '*\"/\"VBI$_2_P_M *\"/\"IN', '*\"/\"VBI_2_P_F *\"/\"IN', '*\"/\"VBI$_2_P_F *\"/\"IN']\n",
      "94\n"
     ]
    }
   ],
   "source": [
    "editedtags=[]\n",
    "for tag in uneditedtags:\n",
    "    if '*\"/\"' not in tag:\n",
    "        editedtags.append('*\"/\"' + tag + ' *\"/\"IN')\n",
    "print(editedtags)\n",
    "print(len(editedtags)) "
   ]
  },
  {
   "cell_type": "code",
   "execution_count": 3,
   "metadata": {},
   "outputs": [
    {
     "name": "stdout",
     "output_type": "stream",
     "text": [
      "['*\"/\"AUX *\"/\"IN', '*\"/\"VBD_1_S_N *\"/\"IN', '*\"/\"VBD$_1_S_N *\"/\"IN', '*\"/\"VBD_1_P_N *\"/\"IN', '*\"/\"VBD$_1_P_N *\"/\"IN', '*\"/\"VBD_2_S_M *\"/\"IN', '*\"/\"VBD$_2_S_M *\"/\"IN', '*\"/\"VBD_2_S_F *\"/\"IN', '*\"/\"VBD$_2_S_F *\"/\"IN', '*\"/\"VBD_2_D_N *\"/\"IN', '*\"/\"VBD$_2_D_N *\"/\"IN', '*\"/\"VBD_2_P_M *\"/\"IN', '*\"/\"VBD$_2_P_M *\"/\"IN', '*\"/\"VBD_2_P_F *\"/\"IN', '*\"/\"VBD$_2_P_F *\"/\"IN', '*\"/\"VBD_3_S_M *\"/\"IN', '*\"/\"VBD$_3_S_M *\"/\"IN', '*\"/\"VBD_3_S_F *\"/\"IN', '*\"/\"VBD$_3_S_F *\"/\"IN', '*\"/\"VBD_3_D_M *\"/\"IN', '*\"/\"VBD$_3_D_M *\"/\"IN', '*\"/\"VBD_3_D_F *\"/\"IN', '*\"/\"VBD$_3_D_F *\"/\"IN', '*\"/\"VBD_3_P_M *\"/\"IN', '*\"/\"VBD$_3_P_M *\"/\"IN', '*\"/\"VBD_3_P_F *\"/\"IN', '*\"/\"VBD$_3_P_F *\"/\"IN', '*\"/\"VBDP_1_S_N *\"/\"IN', '*\"/\"VBDP_1_P_N *\"/\"IN', '*\"/\"VBDP_2_S_M *\"/\"IN', '*\"/\"VBDP_2_S_F *\"/\"IN', '*\"/\"VBDP_2_D_N *\"/\"IN', '*\"/\"VBDP_2_P_M *\"/\"IN', '*\"/\"VBDP_2_P_F *\"/\"IN']\n"
     ]
    }
   ],
   "source": [
    "goodtags = []\n",
    "for tag in uneditedtags:\n",
    "    if '*\"/\"' in tag:\n",
    "        goodtags.append(tag)\n",
    "print(goodtags)"
   ]
  },
  {
   "cell_type": "code",
   "execution_count": 4,
   "metadata": {},
   "outputs": [
    {
     "name": "stdout",
     "output_type": "stream",
     "text": [
      "128\n"
     ]
    }
   ],
   "source": [
    "for taglet in editedtags:\n",
    "    goodtags.append(taglet)\n",
    "\n",
    "print(len(goodtags))"
   ]
  },
  {
   "cell_type": "code",
   "execution_count": 5,
   "metadata": {},
   "outputs": [
    {
     "name": "stdout",
     "output_type": "stream",
     "text": [
      "['*\"/\"AUX *\"/\"IN', '*\"/\"VBD_1_S_N *\"/\"IN', '*\"/\"VBD$_1_S_N *\"/\"IN', '*\"/\"VBD_1_P_N *\"/\"IN', '*\"/\"VBD$_1_P_N *\"/\"IN', '*\"/\"VBD_2_S_M *\"/\"IN', '*\"/\"VBD$_2_S_M *\"/\"IN', '*\"/\"VBD_2_S_F *\"/\"IN', '*\"/\"VBD$_2_S_F *\"/\"IN', '*\"/\"VBD_2_D_N *\"/\"IN', '*\"/\"VBD$_2_D_N *\"/\"IN', '*\"/\"VBD_2_P_M *\"/\"IN', '*\"/\"VBD$_2_P_M *\"/\"IN', '*\"/\"VBD_2_P_F *\"/\"IN', '*\"/\"VBD$_2_P_F *\"/\"IN', '*\"/\"VBD_3_S_M *\"/\"IN', '*\"/\"VBD$_3_S_M *\"/\"IN', '*\"/\"VBD_3_S_F *\"/\"IN', '*\"/\"VBD$_3_S_F *\"/\"IN', '*\"/\"VBD_3_D_M *\"/\"IN', '*\"/\"VBD$_3_D_M *\"/\"IN', '*\"/\"VBD_3_D_F *\"/\"IN', '*\"/\"VBD$_3_D_F *\"/\"IN', '*\"/\"VBD_3_P_M *\"/\"IN', '*\"/\"VBD$_3_P_M *\"/\"IN', '*\"/\"VBD_3_P_F *\"/\"IN', '*\"/\"VBD$_3_P_F *\"/\"IN', '*\"/\"VBDP_1_S_N *\"/\"IN', '*\"/\"VBDP_1_P_N *\"/\"IN', '*\"/\"VBDP_2_S_M *\"/\"IN', '*\"/\"VBDP_2_S_F *\"/\"IN', '*\"/\"VBDP_2_D_N *\"/\"IN', '*\"/\"VBDP_2_P_M *\"/\"IN', '*\"/\"VBDP_2_P_F *\"/\"IN', '*\"/\"VBDP_3_S_M *\"/\"IN', '*\"/\"VBDP_3_S_F *\"/\"IN', '*\"/\"VBDP_3_D_M *\"/\"IN', '*\"/\"VBDP_3_D_F *\"/\"IN', '*\"/\"VBDP_3_P_M *\"/\"IN', '*\"/\"VBDP_3_P_F *\"/\"IN', '*\"/\"VBZ_1_S_N *\"/\"IN', '*\"/\"VBZ$_1_S_N *\"/\"IN', '*\"/\"VBZ_1_P_N *\"/\"IN', '*\"/\"VBZ$_1_P_N *\"/\"IN', '*\"/\"VBZ_2_S_M *\"/\"IN', '*\"/\"VBZ$_2_S_M *\"/\"IN', '*\"/\"VBZ_2_S_F *\"/\"IN', '*\"/\"VBZ$_2_S_F *\"/\"IN', '*\"/\"VBZ_2_D_N *\"/\"IN', '*\"/\"VBZ$_2_D_N *\"/\"IN', '*\"/\"VBZ_2_P_M *\"/\"IN', '*\"/\"VBZ$_2_P_M *\"/\"IN', '*\"/\"VBZ_2_P_F *\"/\"IN', '*\"/\"VBZ$_2_P_F *\"/\"IN', '*\"/\"VBZ_3_S_M *\"/\"IN', '*\"/\"VBZ$_3_S_M *\"/\"IN', '*\"/\"VBZ_3_S_F *\"/\"IN', '*\"/\"VBZ$_3_S_F *\"/\"IN', '*\"/\"VBZ_3_D_M *\"/\"IN', '*\"/\"VBZ$_3_D_M *\"/\"IN', '*\"/\"VBZ_3_D_F *\"/\"IN', '*\"/\"VBZ$_3_D_F *\"/\"IN', '*\"/\"VBZ_3_P_M *\"/\"IN', '*\"/\"VBZ$_3_P_M *\"/\"IN', '*\"/\"VBZ_3_P_F *\"/\"IN', '*\"/\"VBZ$_3_P_F *\"/\"IN', '*\"/\"VBZP_1_S_N *\"/\"IN', '*\"/\"VBZP_1_P_N *\"/\"IN', '*\"/\"VBZP_2_S_M *\"/\"IN', '*\"/\"VBZP_2_S_F *\"/\"IN', '*\"/\"VBZP_2_D_N *\"/\"IN', '*\"/\"VBZP_2_P_M *\"/\"IN', '*\"/\"VBZP_2_P_F *\"/\"IN', '*\"/\"VBZP_3_S_M *\"/\"IN', '*\"/\"VBZP_3_S_F *\"/\"IN', '*\"/\"VBZP_3_D_M *\"/\"IN', '*\"/\"VBZP_3_D_F *\"/\"IN', '*\"/\"VBZP_3_P_M *\"/\"IN', '*\"/\"VBZP_3_P_F *\"/\"IN', '*\"/\"VBF_1_S_N *\"/\"IN', '*\"/\"VBF$_1_S_N *\"/\"IN', '*\"/\"VBF_1_P_N *\"/\"IN', '*\"/\"VBF$_1_P_N *\"/\"IN', '*\"/\"VBF_2_S_M *\"/\"IN', '*\"/\"VBF$_2_S_M *\"/\"IN', '*\"/\"VBF_2_S_F *\"/\"IN', '*\"/\"VBF$_2_S_F *\"/\"IN', '*\"/\"VBF_2_D_N *\"/\"IN', '*\"/\"VBF$_2_D_N *\"/\"IN', '*\"/\"VBF_2_P_M *\"/\"IN', '*\"/\"VBF$_2_P_M *\"/\"IN', '*\"/\"VBF_2_P_F *\"/\"IN', '*\"/\"VBF$_2_P_F *\"/\"IN', '*\"/\"VBF_3_S_M *\"/\"IN', '*\"/\"VBF$_3_S_M *\"/\"IN', '*\"/\"VBF_3_S_F *\"/\"IN', '*\"/\"VBF$_3_S_F *\"/\"IN', '*\"/\"VBF_3_D_M *\"/\"IN', '*\"/\"VBF$_3_D_M *\"/\"IN', '*\"/\"VBF_3_D_F *\"/\"IN', '*\"/\"VBF$_3_D_F *\"/\"IN', '*\"/\"VBF_3_P_M *\"/\"IN', '*\"/\"VBF$_3_P_M *\"/\"IN', '*\"/\"VBF_3_P_F *\"/\"IN', '*\"/\"VBF$_3_P_F *\"/\"IN', '*\"/\"VBFP_1_S_N *\"/\"IN', '*\"/\"VBFP_1_P_N *\"/\"IN', '*\"/\"VBFP_2_S_M *\"/\"IN', '*\"/\"VBFP_2_S_F *\"/\"IN', '*\"/\"VBFP_2_D_N *\"/\"IN', '*\"/\"VBFP_2_P_M *\"/\"IN', '*\"/\"VBFP_2_P_F *\"/\"IN', '*\"/\"VBFP_3_S_M *\"/\"IN', '*\"/\"VBFP_3_S_F *\"/\"IN', '*\"/\"VBFP_3_D_M *\"/\"IN', '*\"/\"VBFP_3_D_F *\"/\"IN', '*\"/\"VBFP_3_P_M *\"/\"IN', '*\"/\"VBFP_3_P_F *\"/\"IN', '*\"/\"VBI_2_S_M *\"/\"IN', '*\"/\"VBI$_2_S_M *\"/\"IN', '*\"/\"VBI_2_S_F *\"/\"IN', '*\"/\"VBI$_2_S_F *\"/\"IN', '*\"/\"VBI_2_D_N *\"/\"IN', '*\"/\"VBI$_2_D_N *\"/\"IN', '*\"/\"VBI_2_P_M *\"/\"IN', '*\"/\"VBI$_2_P_M *\"/\"IN', '*\"/\"VBI_2_P_F *\"/\"IN', '*\"/\"VBI$_2_P_F *\"/\"IN']\n"
     ]
    }
   ],
   "source": [
    "print(goodtags)"
   ]
  },
  {
   "cell_type": "code",
   "execution_count": 7,
   "metadata": {},
   "outputs": [],
   "source": [
    "with open('CompleteTags.txt', mode='wt', encoding='utf-8') as myfile:\n",
    "    myfile.write('\\n'.join(goodtags))"
   ]
  },
  {
   "cell_type": "code",
   "execution_count": null,
   "metadata": {},
   "outputs": [],
   "source": []
  }
 ],
 "metadata": {
  "kernelspec": {
   "display_name": "Python 3",
   "language": "python",
   "name": "python3"
  },
  "language_info": {
   "codemirror_mode": {
    "name": "ipython",
    "version": 3
   },
   "file_extension": ".py",
   "mimetype": "text/x-python",
   "name": "python",
   "nbconvert_exporter": "python",
   "pygments_lexer": "ipython3",
   "version": "3.8.1"
  }
 },
 "nbformat": 4,
 "nbformat_minor": 4
}
