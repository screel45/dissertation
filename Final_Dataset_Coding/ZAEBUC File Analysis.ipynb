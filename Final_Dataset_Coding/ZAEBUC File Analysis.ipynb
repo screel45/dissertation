{
 "cells": [
  {
   "cell_type": "code",
   "execution_count": 5,
   "metadata": {},
   "outputs": [
    {
     "name": "stdout",
     "output_type": "stream",
     "text": [
      "['AR-130-84627.extracted.spellcorrected_noflagging.txt', 'AR-130-89774.extracted.spellcorrected_noflagging.txt', 'AR-130-91028.extracted.spellcorrected_noflagging.txt', 'AR-130-191115.extracted.spellcorrected_noflagging.txt', 'AR-130-186196.extracted.spellcorrected_noflagging.txt']\n",
      "215\n"
     ]
    }
   ],
   "source": [
    "import os\n",
    "import os.path\n",
    "ZArabic_folder = \"/Users/samanthacreel/Documents/Dissertation/ZAEBUC_spellcorrected/Arabic_spellcorrected_30-1-2021\"\n",
    "ar_file_list = os.listdir(\"/Users/samanthacreel/Documents/Dissertation/ZAEBUC_spellcorrected/Arabic_spellcorrected_30-1-2021\")\n",
    "\n",
    "ar_file_names = []\n",
    "\n",
    "for file in ar_file_list:\n",
    "    if \".txt\" in file:\n",
    "        ar_file_names.append(file)\n",
    "print(ar_file_names[0:5])\n",
    "print(len(ar_file_names))"
   ]
  },
  {
   "cell_type": "code",
   "execution_count": 6,
   "metadata": {},
   "outputs": [
    {
     "name": "stdout",
     "output_type": "stream",
     "text": [
      "[['\\ufeff#Anon_ID\\t84627', '', 'التسامح هو شيء أساسي بالنسبة لنا كدولة عظيمة تستقبل العديد من الشعوب من مختلف البلدان، لذلك لا بد من أن نعسى دائما في تنمية هذه القيمة الأخلاقية، من خلال تثقيف المجتمع وتعليمهم باتخاذ المهارات اللازمة التي تساعد في تكثيف هذه القيمة الإنسانية، لذلك تسعى دولة الإمارات في إعطاء حصص لازمة في المدارس والجامعات تدعم هذه القيمة الأخلاقية فهي توفر العديد من الأشياء التي تسعى لترسيخ قيمة التسامح والتعايش باللغتين العربية والإنجليزية، وفي أثناء هذه الحصص يقوم الطلاب ببعض النقاشات والنشاطات التي تعلمهم أساليب الحياة الأخلاقية.', '', 'وأيضا دولتا تهتم في ترسيخ هذه القيمة من خلال الندوات والبرامج التي تشمل جميع الفئات العمرية.', '', 'لذلك نحن كأبناء دولة الإمارات العربية المتحدة يجب أن نكون مساهمين في تحقيق هذه القيمة التي يحرص عليها قادتنا الأعزاء، فنتمنى أن نصبح لهم خير من يمثل هذه القيمة التعايشية، تزامننا مع عامنا هذا عام التسامح المقتبس من والدنا المغفور له الشيخ زايد رحمه الله.', ''], ['\\ufeff#Anon_ID\\t89774', '', 'في الوقت الحاضر، يعتمد الإنسان على التكنولوجيا ووسائل التواصل الاجتماعي اعتمادا كبيرا ولكل شيء في حياتنا تأثير سلبي وإيجابي أيضا. فعلينا استخدام هذه الأمور بدقة وحذر لأننا يمكن أن نخطئ باستعمالها ونندم لاحقا. هناك من يستخدم هذه البرامج لمتابعة آخر الأخبار والعناوين وهناك من يستخدمها للتواصل مع الآخرين في كل أنحاء الأرض. لهذه البرامج أثر إيجابي كبير على المجتمع، وتؤثر على القطاع التعليمي والطبي. يمكنك أن تجد أفضل المدارس والجامعات في العالم بدون إضاعة وقت أبدا، أفضل المنتجات الطبية والتجميلية، وأحدث الأجهزة للعلاج الطبي. تؤثر أيضا بشكل سلبي على المجتمع لأنها يمكن أن تشغل الفرد من أداء مهامه وواجباته اليومية. تفيد الفرد أيضا في التواصل مع أهله وأصدقائه في أي وقت وأي زمن. في الختام، إذا تعلم الإنسان استخدام وقته بشكل جيد فستفيده هذه الأمور كثيرا لأنها تساعد المجتمع على التطور والازدهار. على كل فرد مسؤولية في استخدام هذه الأمور ويجب أن نعلم الآخرين وننصحهم على أن يستفيدوا من هذه البرامج في الحياة بشكل عام ولا يهدروا وقتهم على أشياء قد تضرهم.', ''], ['\\ufeff#Anon_ID\\t91028', '', 'يستخدم جميع الناس وسائل التواصل الاجتماعي أينما كانوا في العالم ومهما كان عمرهم ومن الصعب أن تجد أي أحد لا يستخدم التواصل الاجتماعي فهناك الكثير من الإيجابيات وأيضا الكثير من السلبيات، هناك الكثير من الأشياء التي نستطيع الاستفادة منها من التواصل الاجتماعي مثل أن نعرف الأخبار التي تحدث في العالم، استخدام الإنترنت للتعلم عن أشياء جديدة عن أي نريده، قراءة الكتب من أي كاتب نريد والتواصل مع الاصدقاء أينما كانوا في العالم، وهناك السلبيات أيضا مثل الإدمان وألم العيون وصعبة التركيز.', ''], ['\\ufeff#Anon_ID\\t191115', '', 'وسائل التواصل الاجتماعي له أثر كبير في المجتمع من الناحية السلبية والإيجابية، وفي مجتمعنا الحالي قد أثر عليهم بشكل سلبي بكثرة وجعل المجتمع يتأثرون على معظم الأشياء التي يقومون فيها في التواصل الاجتماعي وأيضا قد تغني بعض الأشخاص عن التواصل الحقيقي والمباشر مع الناس ويحصرهم في غرفهم،', 'وهذه يدل على إدمان التواصل الاجتماعي وتجعل الشخص وحيدا لا يجتمع مع الناس ويتحاور معهم ويجعل الشخص لا يستغني عن التواصل الاجتماعي مما يؤدي إلى انعزال في الواقع، ومن ناحية الاستخدام السيئ لمواقع التواصل الاجتماعي يؤدي إلى إضاعة الوقت وبلا هدف. ولكن التواصل الاجتماعي لديه أيضا أثر إيجابي مثل التواصل بين الناس وهو ميزة رئيسية ويجعل الشخص يتعرف على الكثير من الناس من بلدان أخرى، وأيضا يمكن للشخص أنه يحصل على اي معلومة يريد ان يعرفه الشخص أو يستفاد منها ويمكن لكل شخص أنه يتحكم في استخدامه للتواصل الاجتماعي ويعرف كيفية الاستخدام من غير لا يكون له أثر سلبي على الشخص وهكذا قد يكون قادرا التحكم بنفسه بعدل من غير لا يؤذي نفسه من كثر الاستخدام على التواصل الاجتماعي أو يتأثر من التواصل الاجتماعي بشكل سلبي وقد يكون يتأثر بشكل إيجابي.', ''], ['\\ufeff#Anon_ID\\t186196', '', 'أصبحت وسائل التواصل الاجتماعي وتأثيرها على الفرد والمجتمع تأثيرا قويا مما أدى إلى بعض المراهقين الإدمان على التواصل الاجتماعي وينتج عن ذلك الإصابة بالمرض النفسي. أصبحوا الناس لا يبالون بالوقت الذي يقضونه على الإنترنت أو البرامج الاجتماعية وأدى الأمر إلى انقطاع عن الأرحام أو بالأحرى الانقطاع عن العالم. التواصل الاجتماعي لديه تأثيران على الشخص تأثير إيجابي وتأثير سلبي. التأثير الإيجابي للشخص هو أن الشخص قادر على التواصل مع أفراد أسرته أو أصدقائه في جميع أنحاء العالم، وأيضا يمكنهم التعلم الأشياء المفيدة بالتواصل الاجتماعي أو جمع معلومات الجيدة والمفيدة من التواصل الاجتماعي. التأثير السلبي على الفرد هو أن الجميع الآن منقطع عن زيارة الأصدقاء أو الأهل والكل منطو في غرفته بعيدا عن أفراد الأسرة وذلك ينتج إلى توحد الشخص وكرهه لحضور مناسبات عائلية أو مناسبة أصدقائه. التأثير السلبي الثاني هو التواصل الاجتماعي يؤدي إلى إدمان بعض الأشياء مثل المخدرات أو الكحول أو غير ذلك وذلك يحدث من بيع المخدرات في مواقع التواصل الاجتماعي. أحيانا يتعرض الفرد إلى المسائل القانونية بسبب التواصل الاجتماعي لأن انطبقت قوانين في بعض الدول لعدم الشتم أو التنمر وذلك يعرضك لمسائل قانونية أو السجن والغرامة.', '']]\n"
     ]
    }
   ],
   "source": [
    "word_lines = []\n",
    "\n",
    "for file in ar_file_list:\n",
    "    with open(os.path.join(ZArabic_folder,file),'r') as f:\n",
    "        lines = f.readlines()\n",
    "        lines = [i.rstrip('\\r\\n') for i in lines]\n",
    "        word_lines.append(lines)\n",
    "print(word_lines[0:5])"
   ]
  },
  {
   "cell_type": "code",
   "execution_count": 39,
   "metadata": {},
   "outputs": [
    {
     "name": "stdout",
     "output_type": "stream",
     "text": [
      "['التسامح هو شيء أساسي بالنسبة لنا كدولة عظيمة تستقبل العديد من الشعوب من مختلف البلدان، لذلك لا بد من أن نعسى دائما في تنمية هذه القيمة الأخلاقية، من خلال تثقيف المجتمع وتعليمهم باتخاذ المهارات اللازمة التي تساعد في تكثيف هذه القيمة الإنسانية، لذلك تسعى دولة الإمارات في إعطاء حصص لازمة في المدارس والجامعات تدعم هذه القيمة الأخلاقية فهي توفر العديد من الأشياء التي تسعى لترسيخ قيمة التسامح والتعايش باللغتين العربية والإنجليزية، وفي أثناء هذه الحصص يقوم الطلاب ببعض النقاشات والنشاطات التي تعلمهم أساليب الحياة الأخلاقية.', '', 'وأيضا دولتا تهتم في ترسيخ هذه القيمة من خلال الندوات والبرامج التي تشمل جميع الفئات العمرية.', '', 'لذلك نحن كأبناء دولة الإمارات العربية المتحدة يجب أن نكون مساهمين في تحقيق هذه القيمة التي يحرص عليها قادتنا الأعزاء، فنتمنى أن نصبح لهم خير من يمثل هذه القيمة التعايشية، تزامننا مع عامنا هذا عام التسامح المقتبس من والدنا المغفور له الشيخ زايد رحمه الله.', '', '\\ufeff#Anon_ID\\t89774', '', 'في الوقت الحاضر، يعتمد الإنسان على التكنولوجيا ووسائل التواصل الاجتماعي اعتمادا كبيرا ولكل شيء في حياتنا تأثير سلبي وإيجابي أيضا. فعلينا استخدام هذه الأمور بدقة وحذر لأننا يمكن أن نخطئ باستعمالها ونندم لاحقا. هناك من يستخدم هذه البرامج لمتابعة آخر الأخبار والعناوين وهناك من يستخدمها للتواصل مع الآخرين في كل أنحاء الأرض. لهذه البرامج أثر إيجابي كبير على المجتمع، وتؤثر على القطاع التعليمي والطبي. يمكنك أن تجد أفضل المدارس والجامعات في العالم بدون إضاعة وقت أبدا، أفضل المنتجات الطبية والتجميلية، وأحدث الأجهزة للعلاج الطبي. تؤثر أيضا بشكل سلبي على المجتمع لأنها يمكن أن تشغل الفرد من أداء مهامه وواجباته اليومية. تفيد الفرد أيضا في التواصل مع أهله وأصدقائه في أي وقت وأي زمن. في الختام، إذا تعلم الإنسان استخدام وقته بشكل جيد فستفيده هذه الأمور كثيرا لأنها تساعد المجتمع على التطور والازدهار. على كل فرد مسؤولية في استخدام هذه الأمور ويجب أن نعلم الآخرين وننصحهم على أن يستفيدوا من هذه البرامج في الحياة بشكل عام ولا يهدروا وقتهم على أشياء قد تضرهم.', '', '\\ufeff#Anon_ID\\t91028', '', 'يستخدم جميع الناس وسائل التواصل الاجتماعي أينما كانوا في العالم ومهما كان عمرهم ومن الصعب أن تجد أي أحد لا يستخدم التواصل الاجتماعي فهناك الكثير من الإيجابيات وأيضا الكثير من السلبيات، هناك الكثير من الأشياء التي نستطيع الاستفادة منها من التواصل الاجتماعي مثل أن نعرف الأخبار التي تحدث في العالم، استخدام الإنترنت للتعلم عن أشياء جديدة عن أي نريده، قراءة الكتب من أي كاتب نريد والتواصل مع الاصدقاء أينما كانوا في العالم، وهناك السلبيات أيضا مثل الإدمان وألم العيون وصعبة التركيز.', '', '\\ufeff#Anon_ID\\t191115', '', 'وسائل التواصل الاجتماعي له أثر كبير في المجتمع من الناحية السلبية والإيجابية، وفي مجتمعنا الحالي قد أثر عليهم بشكل سلبي بكثرة وجعل المجتمع يتأثرون على معظم الأشياء التي يقومون فيها في التواصل الاجتماعي وأيضا قد تغني بعض الأشخاص عن التواصل الحقيقي والمباشر مع الناس ويحصرهم في غرفهم،', 'وهذه يدل على إدمان التواصل الاجتماعي وتجعل الشخص وحيدا لا يجتمع مع الناس ويتحاور معهم ويجعل الشخص لا يستغني عن التواصل الاجتماعي مما يؤدي إلى انعزال في الواقع، ومن ناحية الاستخدام السيئ لمواقع التواصل الاجتماعي يؤدي إلى إضاعة الوقت وبلا هدف. ولكن التواصل الاجتماعي لديه أيضا أثر إيجابي مثل التواصل بين الناس وهو ميزة رئيسية ويجعل الشخص يتعرف على الكثير من الناس من بلدان أخرى، وأيضا يمكن للشخص أنه يحصل على اي معلومة يريد ان يعرفه الشخص أو يستفاد منها ويمكن لكل شخص أنه يتحكم في استخدامه للتواصل الاجتماعي ويعرف كيفية الاستخدام من غير لا يكون له أثر سلبي على الشخص وهكذا قد يكون قادرا التحكم بنفسه بعدل من غير لا يؤذي نفسه من كثر الاستخدام على التواصل الاجتماعي أو يتأثر من التواصل الاجتماعي بشكل سلبي وقد يكون يتأثر بشكل إيجابي.', '', '\\ufeff#Anon_ID\\t186196']\n"
     ]
    }
   ],
   "source": [
    "flat_list = [item for sublist in word_lines for item in sublist]\n",
    "print(flat_list[0:20])"
   ]
  },
  {
   "cell_type": "code",
   "execution_count": 33,
   "metadata": {},
   "outputs": [
    {
     "name": "stdout",
     "output_type": "stream",
     "text": [
      "['التسامح هو شيء أساسي بالنسبة لنا كدولة عظيمة تستقبل العديد من الشعوب من مختلف البلدان، لذلك لا بد من أن نعسى دائما في تنمية هذه القيمة الأخلاقية، من خلال تثقيف المجتمع وتعليمهم باتخاذ المهارات اللازمة التي تساعد في تكثيف هذه القيمة الإنسانية، لذلك تسعى دولة الإمارات في إعطاء حصص لازمة في المدارس والجامعات تدعم هذه القيمة الأخلاقية فهي توفر العديد من الأشياء التي تسعى لترسيخ قيمة التسامح والتعايش باللغتين العربية والإنجليزية، وفي أثناء هذه الحصص يقوم الطلاب ببعض النقاشات والنشاطات التي تعلمهم أساليب الحياة الأخلاقية.', 'وأيضا دولتا تهتم في ترسيخ هذه القيمة من خلال الندوات والبرامج التي تشمل جميع الفئات العمرية.', 'لذلك نحن كأبناء دولة الإمارات العربية المتحدة يجب أن نكون مساهمين في تحقيق هذه القيمة التي يحرص عليها قادتنا الأعزاء، فنتمنى أن نصبح لهم خير من يمثل هذه القيمة التعايشية، تزامننا مع عامنا هذا عام التسامح المقتبس من والدنا المغفور له الشيخ زايد رحمه الله.']\n"
     ]
    }
   ],
   "source": [
    "one_essay = word_lines[0]\n",
    "one_essay = [i for i in one_essay if i]\n",
    "print(one_essay)"
   ]
  },
  {
   "cell_type": "code",
   "execution_count": 34,
   "metadata": {},
   "outputs": [
    {
     "name": "stdout",
     "output_type": "stream",
     "text": [
      "التسامح هو شيء أساسي بالنسبة لنا كدولة عظيمة تستقبل العديد من الشعوب من مختلف البلدان، لذلك لا بد من أن نعسى دائما في تنمية هذه القيمة الأخلاقية، من خلال تثقيف المجتمع وتعليمهم باتخاذ المهارات اللازمة التي تساعد في تكثيف هذه القيمة الإنسانية، لذلك تسعى دولة الإمارات في إعطاء حصص لازمة في المدارس والجامعات تدعم هذه القيمة الأخلاقية فهي توفر العديد من الأشياء التي تسعى لترسيخ قيمة التسامح والتعايش باللغتين العربية والإنجليزية، وفي أثناء هذه الحصص يقوم الطلاب ببعض النقاشات والنشاطات التي تعلمهم أساليب الحياة الأخلاقية. وأيضا دولتا تهتم في ترسيخ هذه القيمة من خلال الندوات والبرامج التي تشمل جميع الفئات العمرية. لذلك نحن كأبناء دولة الإمارات العربية المتحدة يجب أن نكون مساهمين في تحقيق هذه القيمة التي يحرص عليها قادتنا الأعزاء، فنتمنى أن نصبح لهم خير من يمثل هذه القيمة التعايشية، تزامننا مع عامنا هذا عام التسامح المقتبس من والدنا المغفور له الشيخ زايد رحمه الله.\n"
     ]
    }
   ],
   "source": [
    "s = \" \"\n",
    "one_essay = s.join(one_essay)\n",
    "print(one_essay)"
   ]
  },
  {
   "cell_type": "code",
   "execution_count": 12,
   "metadata": {},
   "outputs": [],
   "source": [
    "from nltk.tokenize import word_tokenize"
   ]
  },
  {
   "cell_type": "code",
   "execution_count": 35,
   "metadata": {},
   "outputs": [],
   "source": [
    "one_essay = word_tokenize(one_essay)"
   ]
  },
  {
   "cell_type": "code",
   "execution_count": 36,
   "metadata": {},
   "outputs": [
    {
     "name": "stdout",
     "output_type": "stream",
     "text": [
      "['التسامح', 'هو', 'شيء', 'أساسي', 'بالنسبة', 'لنا', 'كدولة', 'عظيمة', 'تستقبل', 'العديد']\n"
     ]
    }
   ],
   "source": [
    "print(one_essay[0:10])"
   ]
  },
  {
   "cell_type": "code",
   "execution_count": 37,
   "metadata": {},
   "outputs": [
    {
     "name": "stdout",
     "output_type": "stream",
     "text": [
      "['التسامح', 'هو', 'شيء', 'أساسي', 'بالنسبة', 'لنا', 'كدولة', 'عظيمة', 'تستقبل', 'العديد', 'من', 'الشعوب', 'من', 'مختلف', 'البلدان،', 'لذلك', 'لا', 'بد', 'من', 'أن']\n"
     ]
    }
   ],
   "source": [
    "one_essay = word_tokenize(one_essay)\n",
    "one_essay_2 = []\n",
    "for item in one_essay:\n",
    "    if item != '.':\n",
    "        one_essay_2.append(item)\n",
    "print(one_essay_2[0:20])\n"
   ]
  },
  {
   "cell_type": "code",
   "execution_count": 38,
   "metadata": {},
   "outputs": [
    {
     "name": "stdout",
     "output_type": "stream",
     "text": [
      "149\n"
     ]
    }
   ],
   "source": [
    "print(len(one_essay))"
   ]
  },
  {
   "cell_type": "code",
   "execution_count": 46,
   "metadata": {},
   "outputs": [],
   "source": [
    "def word_count(corpus_folder_path):\n",
    "    folder = corpus_folder_path\n",
    "    file_list = os.listdir(corpus_folder_path)\n",
    "\n",
    "    file_names = []\n",
    "    for file in file_list:\n",
    "        if \".txt\" in file:\n",
    "            file_names.append(file)\n",
    "    \n",
    "    word_lines = []\n",
    "    for file in file_names:\n",
    "        with open(os.path.join(folder,file),'r') as f:\n",
    "            lines = f.readlines()\n",
    "            lines = [i.rstrip('\\r\\n') for i in lines]\n",
    "            word_lines.append(lines)\n",
    "    \n",
    "    flat_list = [item for sublist in word_lines for item in sublist]\n",
    "    one_essay = [i for i in flat_list if i]\n",
    "    s = \" \"\n",
    "    one_essay_2 = s.join(one_essay)\n",
    "    \n",
    "    one_essay_3 = word_tokenize(one_essay_2)\n",
    "    one_essay_4 = []\n",
    "    for item in one_essay_3:\n",
    "        if item != '.':\n",
    "            one_essay_4.append(item)\n",
    "    one_essay_5 = []\n",
    "    for item in one_essay_4:\n",
    "        if item != ',':\n",
    "            one_essay_5.append(item)\n",
    "    one_essay_6 = []\n",
    "    for item in one_essay_5:\n",
    "        if item != '!':\n",
    "            one_essay_6.append(item)\n",
    "    return len(one_essay_6)"
   ]
  },
  {
   "cell_type": "code",
   "execution_count": 47,
   "metadata": {},
   "outputs": [
    {
     "data": {
      "text/plain": [
       "32784"
      ]
     },
     "execution_count": 47,
     "metadata": {},
     "output_type": "execute_result"
    }
   ],
   "source": [
    "word_count(\"/Users/samanthacreel/Documents/Dissertation/ZAEBUC_spellcorrected/Arabic_spellcorrected_30-1-2021\")"
   ]
  },
  {
   "cell_type": "code",
   "execution_count": 48,
   "metadata": {},
   "outputs": [
    {
     "data": {
      "text/plain": [
       "89904"
      ]
     },
     "execution_count": 48,
     "metadata": {},
     "output_type": "execute_result"
    }
   ],
   "source": [
    "word_count(\"/Users/samanthacreel/Documents/Dissertation/ZAEBUC_spellcorrected/English_spellcorrected_30-1-2021\")"
   ]
  },
  {
   "cell_type": "code",
   "execution_count": 4,
   "metadata": {},
   "outputs": [
    {
     "name": "stdout",
     "output_type": "stream",
     "text": [
      "['130-84627', '130-89774', '130-91028', '130-191115', '130-186196', '130-190863', '130-97455', '130-99201', '130-86817', '130-191850', '130-99442', '130-195100', '130-165949', '130-85828', '130-99438', '130-19883', '130-90308', '130-96682', '130-91241', '130-96735', '130-188847', '130-192582', '030-87953', '130-191794', '130-89591', '130-91113', '130-89674', '130-19632', '130-97841', '130-90530', '130-85331', '130-82789', '130-98795', '130-92245', '130-97981', '130-190855', '130-88399', '030-85891', '130-98231', '130-81425', '130-192751', '030-85828', '130-89391', '130-89676', '130-90813', '130-99025', '130-87760', '130-82421', '130-98023', '130-192922', '130-119831', '030-386369', '130-83139', '130-98853', '130-188945', '130-83847', '130-98572', '130-289115', '130-292703', '130-90095', '030-96683', '130-194708', '130-82673', '130-192387', '130-198249', '130-97908', '130-94320', '130-197835', '130-97947', '130-84660', '030-89881', '130-96883', '130-80566', '130-192696', '130-97412', '130-94976', '130-89415', '130-91347', '130-190307', '130-84446', '130-199818', '130-188359', '130-96882', '130-192654', '130-121991965', '130-95601', '130-97525', '130-96463', '130-187968', '130-92581', '130-95973', '130-192155', '130-191242', '130-189525', '130-84488', '130-90626', '130-92956', '130-84014', '130-83934', '130-88780', '130-190447', '130-93285', '130-168718', '130-95365', '130-97035', '130-82310', '130-190122', '130-83576', '130-192490', '130-192949', '130-192885', '130-92874', '130-84846', '130-192528', '030-268469', '030-81027', '130-193363', '130-189799', '130-194718', '130-197898', '130-85294', '130-97827', '130-82659', '130-294255', '130-89381', '130-89653', '130-81303', '130-89064', '130-98148', '130-93037', '130-94052', '130-83165', '130-165859', '130-86741', '130-289073', '130-92132', '130-289903', '130-189349', '130-199747', '130-92771', '130-96479', '130-95796', '130-190808', '030-92800', '130-99351', '130-191088', '030-96339', '130-287997', '130-93034', '130-98089', '130-99590', '030-83625', '130-92903', '130-193838', '130-97726', '130-85466', '130-98135', '130-199101', '130-189921', '130-188826', '030-89249', '030-90528', '130-19921', '130-93749', '130-192707', '130-90411', '130-81952', '030-92524', '130-192218', '130-81912', '130-99787', '130-191075', '030-81757', '130-81953', '130-86032', '130-192747', '130-191743', '130-97236', '130-97652', '130-119813', '030-93360', '130-190745', '130-288874', '130-91705', '130-92103', '130-89587', '130-93459', '130-90783', '130-92988', '130-92844', '130-189611', '130-199634', '130-97823', '030-97791', '130-87139', '130-90873', '130-95626', '130-84687', '130-88375', '130-87491', '130-80823', '130-191809', '130-189750', '130-80816', '130-81924', '130-96120', '130-98675', '130-91256', '130-95921', '130-68830', '130-193451', '130-81723', '130-90250', '130-190317', '130-94968']\n"
     ]
    }
   ],
   "source": [
    "import re\n",
    "pattern = 'AR-(.*)\\.ext'\n",
    "ar_nums_only = []\n",
    "for filename in ar_file_names:\n",
    "    ar_nums = re.search(pattern,filename).group(1)\n",
    "    ar_nums_only.append(ar_nums)\n",
    "print(ar_nums_only)\n",
    "\n",
    "    "
   ]
  },
  {
   "cell_type": "code",
   "execution_count": 5,
   "metadata": {},
   "outputs": [
    {
     "name": "stdout",
     "output_type": "stream",
     "text": [
      "['84627', '89774', '91028', '191115', '186196', '190863', '97455', '99201', '86817', '191850', '99442', '195100', '165949', '85828', '99438', '19883', '90308', '96682', '91241', '96735', '188847', '192582', '87953', '191794', '89591', '91113', '89674', '19632', '97841', '90530', '85331', '82789', '98795', '92245', '97981', '190855', '88399', '85891', '98231', '81425', '192751', '85828', '89391', '89676', '90813', '99025', '87760', '82421', '98023', '192922', '119831', '386369', '83139', '98853', '188945', '83847', '98572', '289115', '292703', '90095', '96683', '194708', '82673', '192387', '198249', '97908', '94320', '197835', '97947', '84660', '89881', '96883', '80566', '192696', '97412', '94976', '89415', '91347', '190307', '84446', '199818', '188359', '96882', '192654', '121991965', '95601', '97525', '96463', '187968', '92581', '95973', '192155', '191242', '189525', '84488', '90626', '92956', '84014', '83934', '88780', '190447', '93285', '168718', '95365', '97035', '82310', '190122', '83576', '192490', '192949', '192885', '92874', '84846', '192528', '268469', '81027', '193363', '189799', '194718', '197898', '85294', '97827', '82659', '294255', '89381', '89653', '81303', '89064', '98148', '93037', '94052', '83165', '165859', '86741', '289073', '92132', '289903', '189349', '199747', '92771', '96479', '95796', '190808', '92800', '99351', '191088', '96339', '287997', '93034', '98089', '99590', '83625', '92903', '193838', '97726', '85466', '98135', '199101', '189921', '188826', '89249', '90528', '19921', '93749', '192707', '90411', '81952', '92524', '192218', '81912', '99787', '191075', '81757', '81953', '86032', '192747', '191743', '97236', '97652', '119813', '93360', '190745', '288874', '91705', '92103', '89587', '93459', '90783', '92988', '92844', '189611', '199634', '97823', '97791', '87139', '90873', '95626', '84687', '88375', '87491', '80823', '191809', '189750', '80816', '81924', '96120', '98675', '91256', '95921', '68830', '193451', '81723', '90250', '190317', '94968']\n",
      "215\n"
     ]
    }
   ],
   "source": [
    "new_ar_nums = []\n",
    "for number in ar_nums_only:\n",
    "    new_ar_nums.append(number[4:])\n",
    "print(new_ar_nums)\n",
    "print(len(new_ar_nums))"
   ]
  },
  {
   "cell_type": "code",
   "execution_count": 6,
   "metadata": {},
   "outputs": [
    {
     "name": "stdout",
     "output_type": "stream",
     "text": [
      "['EN-140-98231.extracted.spellcorrected.txt', 'EN-140-192155.extracted.spellcorrected.txt', 'EN-140-83165.extracted.spellcorrected.txt', 'EN-140-84488.extracted.spellcorrected.txt', 'EN-140-192586.extracted.spellcorrected.txt', 'EN-140-97068.extracted.spellcorrected.txt', 'EN-140-97412.extracted.spellcorrected.txt', 'EN-140-97705.extracted.spellcorrected.txt', 'EN-140-90308.extracted.spellcorrected.txt', 'EN-140-87782.extracted.spellcorrected.txt', 'EN-140-91170.extracted.spellcorrected.txt', 'EN-140-92245.extracted.spellcorrected.txt', 'EN-140-95062.extracted.spellcorrected.txt', 'EN-140-90092.extracted.spellcorrected.txt', 'EN-140-80823.extracted.spellcorrected.txt', 'EN-140-97236.extracted.spellcorrected.txt', 'EN-140-92581.extracted.spellcorrected.txt', 'EN-140-192171.extracted.spellcorrected.txt', 'EN-140-96671.extracted.spellcorrected.txt', 'EN-140-192949.extracted.spellcorrected.txt', 'EN-140-97981.extracted.spellcorrected.txt', 'EN-140-187556.extracted.spellcorrected.txt', 'EN-140-90635.extracted.spellcorrected.txt', 'EN-140-197898.extracted.spellcorrected.txt', 'EN-140-98023.extracted.spellcorrected.txt', 'EN-140-99584.extracted.spellcorrected.txt', 'EN-140-93931.extracted.spellcorrected.txt', 'EN-140-119813.extracted.spellcorrected.txt', 'EN-140-289073.extracted.spellcorrected.txt', 'EN-140-86741.extracted.spellcorrected.txt', 'EN-140-165904.extracted.spellcorrected.txt', 'EN-140-94320.extracted.spellcorrected.txt', 'EN-140-89580.extracted.spellcorrected.txt', 'EN-140-95156.extracted.spellcorrected.txt', 'EN-140-85891.extracted.spellcorrected.txt', 'EN-140-294378.extracted.spellcorrected.txt', 'EN-140-97823.extracted.spellcorrected.txt', 'EN-140-81723.extracted.spellcorrected.txt', 'EN-140-190122.extracted.spellcorrected.txt', 'EN-140-97964.extracted.spellcorrected.txt', 'EN-140-88399.extracted.spellcorrected.txt', 'EN-140-97333.extracted.spellcorrected.txt', 'EN-140-92874.extracted.spellcorrected.txt', 'EN-140-96463.extracted.spellcorrected.txt', 'EN-140-190706.extracted.spellcorrected.txt', 'EN-140-85838.extracted.spellcorrected.txt', 'EN-140-89774.extracted.spellcorrected.txt', 'EN-140-90873.extracted.spellcorrected.txt', 'EN-140-119150.extracted.spellcorrected.txt', 'EN-140-93285.extracted.spellcorrected.txt', 'EN-140-89249.extracted.spellcorrected.txt', 'EN-140-168718.extracted.spellcorrected.txt', 'EN-140-97525.extracted.spellcorrected.txt', 'EN-140-84014.extracted.spellcorrected.txt', 'EN-140-82986.extracted.spellcorrected.txt', 'EN-140-86817.extracted.spellcorrected.txt', 'EN-140-192218.extracted.spellcorrected.txt', 'EN-140-99443.extracted.spellcorrected.txt', 'EN-140-92054.extracted.spellcorrected.txt', 'EN-140-192922.extracted.spellcorrected.txt', 'EN-140-90857.extracted.spellcorrected.txt', 'EN-140-96682.extracted.spellcorrected.txt', 'EN-140-98089.extracted.spellcorrected.txt', 'EN-140-166122.extracted.spellcorrected.txt', 'EN-140-88788.extracted.spellcorrected.txt', 'EN-140-190176.extracted.spellcorrected.txt', 'EN-140-85999.extracted.spellcorrected.txt', 'EN-140-87102.extracted.spellcorrected.txt', 'EN-140-166095.extracted.spellcorrected.txt', 'EN-140-82755.extracted.spellcorrected.txt', 'EN-140-288097.extracted.spellcorrected.txt', 'EN-140-97113.extracted.spellcorrected.txt', 'EN-140-96735.extracted.spellcorrected.txt', 'EN-140-190317.extracted.spellcorrected.txt', 'EN-140-86855.extracted.spellcorrected.txt', 'EN-140-82310.extracted.spellcorrected.txt', 'EN-140-196987.extracted.spellcorrected.txt', 'EN-140-84792.extracted.spellcorrected.txt', 'EN-140-94052.extracted.spellcorrected.txt', 'EN-140-92956.extracted.spellcorrected.txt', 'EN-140-96903.extracted.spellcorrected.txt', 'EN-140-99201.extracted.spellcorrected.txt', 'EN-140-95921.extracted.spellcorrected.txt', 'EN-140-89064.extracted.spellcorrected.txt', 'EN-140-92616.extracted.spellcorrected.txt', 'EN-140-191515.extracted.spellcorrected.txt', 'EN-140-81303.extracted.spellcorrected.txt', 'EN-140-89373.extracted.spellcorrected.txt', 'EN-140-96120.extracted.spellcorrected.txt', 'EN-140-86047.extracted.spellcorrected.txt', 'EN-140-86032.extracted.spellcorrected.txt', 'EN-140-83404.extracted.spellcorrected.txt', 'EN-140-87682.extracted.spellcorrected.txt', 'EN-140-96883.extracted.spellcorrected.txt', 'EN-140-95099.extracted.spellcorrected.txt', 'EN-140-190499.extracted.spellcorrected.txt', 'EN-140-296843.extracted.spellcorrected.txt', 'EN-140-85828.extracted.spellcorrected.txt', 'EN-140-82789.extracted.spellcorrected.txt', 'EN-140-91113.extracted.spellcorrected.txt', 'EN-140-82490.extracted.spellcorrected.txt', 'EN-140-83139.extracted.spellcorrected.txt', 'EN-140-82239.extracted.spellcorrected.txt', 'EN-140-86027.extracted.spellcorrected.txt', 'EN-140-97455.extracted.spellcorrected.txt', 'EN-140-293472.extracted.spellcorrected.txt', 'EN-140-191937.extracted.spellcorrected.txt', 'EN-140-97945.extracted.spellcorrected.txt', 'EN-140-95601.extracted.spellcorrected.txt', 'EN-140-290747.extracted.spellcorrected.txt', 'EN-140-268469.extracted.spellcorrected.txt', 'EN-140-289115.extracted.spellcorrected.txt', 'EN-140-196776.extracted.spellcorrected.txt', 'EN-140-93547.extracted.spellcorrected.txt', 'EN-140-19632.extracted.spellcorrected.txt', 'EN-140-189525.extracted.spellcorrected.txt', 'EN-140-192707.extracted.spellcorrected.txt', 'EN-140-85294.extracted.spellcorrected.txt', 'EN-140-99212.extracted.spellcorrected.txt', 'EN-140-81952.extracted.spellcorrected.txt', 'EN-140-95365.extracted.spellcorrected.txt', 'EN-140-193838.extracted.spellcorrected.txt', 'EN-140-89653.extracted.spellcorrected.txt', 'EN-140-99933.extracted.spellcorrected.txt', 'EN-140-89199.extracted.spellcorrected.txt', 'EN-140-99438.extracted.spellcorrected.txt', 'EN-140-82332.extracted.spellcorrected.txt', 'EN-140-93459.extracted.spellcorrected.txt', 'EN-140-82748.extracted.spellcorrected.txt', 'EN-140-88225.extracted.spellcorrected.txt', 'EN-140-191743.extracted.spellcorrected.txt', 'EN-140-90813.extracted.spellcorrected.txt', 'EN-140-88780.extracted.spellcorrected.txt', 'EN-140-273084.extracted.spellcorrected.txt', 'EN-140-97652.extracted.spellcorrected.txt', 'EN-140-91246.extracted.spellcorrected.txt', 'EN-140-89908.extracted.spellcorrected.txt', 'EN-140-80688.extracted.spellcorrected.txt', 'EN-140-191242.extracted.spellcorrected.txt', 'EN-140-89645.extracted.spellcorrected.txt', 'EN-140-116710.extracted.spellcorrected.txt', 'EN-140-82252.extracted.spellcorrected.txt', 'EN-140-88938.extracted.spellcorrected.txt', 'EN-140-90626.extracted.spellcorrected.txt', 'EN-140-89415.extracted.spellcorrected.txt', 'EN-140-98704.extracted.spellcorrected.txt', 'EN-140-98135.extracted.spellcorrected.txt', 'EN-140-89674.extracted.spellcorrected.txt', 'EN-140-87852.extracted.spellcorrected.txt', 'EN-140-195100.extracted.spellcorrected.txt', 'EN-140-95136.extracted.spellcorrected.txt', 'EN-140-188847.extracted.spellcorrected.txt', 'EN-140-199101.extracted.spellcorrected.txt', 'EN-140-86193.extracted.spellcorrected.txt', 'EN-140-190307.extracted.spellcorrected.txt', 'EN-140-90847.extracted.spellcorrected.txt', 'EN-140-90557.extracted.spellcorrected.txt', 'EN-140-95626.extracted.spellcorrected.txt', 'EN-140-119831.extracted.spellcorrected.txt', 'EN-140-92132.extracted.spellcorrected.txt', 'EN-140-199818.extracted.spellcorrected.txt', 'EN-140-94176.extracted.spellcorrected.txt', 'EN-140-96339.extracted.spellcorrected.txt', 'EN-140-82791.extracted.spellcorrected.txt', 'EN-140-191794.extracted.spellcorrected.txt', 'EN-140-84522.extracted.spellcorrected.txt', 'EN-140-268819.extracted.spellcorrected.txt', 'EN-140-98148.extracted.spellcorrected.txt', 'EN-140-84687.extracted.spellcorrected.txt', 'EN-140-199951.extracted.spellcorrected.txt', 'EN-140-90410.extracted.spellcorrected.txt', 'EN-140-191859.extracted.spellcorrected.txt', 'EN-140-92103.extracted.spellcorrected.txt', 'EN-140-89976.extracted.spellcorrected.txt', 'EN-140-95973.extracted.spellcorrected.txt', 'EN-140-92201.extracted.spellcorrected.txt', 'EN-140-82421.extracted.spellcorrected.txt', 'EN-140-93360.extracted.spellcorrected.txt', 'EN-140-190855.extracted.spellcorrected.txt', 'EN-140-91705.extracted.spellcorrected.txt', 'EN-140-192490.extracted.spellcorrected.txt', 'EN-140-85472.extracted.spellcorrected.txt', 'EN-140-287997.extracted.spellcorrected.txt', 'EN-140-191006.extracted.spellcorrected.txt', 'EN-140-88480.extracted.spellcorrected.txt', 'EN-140-292703.extracted.spellcorrected.txt', 'EN-140-84417.extracted.spellcorrected.txt', 'EN-140-287810.extracted.spellcorrected.txt', 'EN-140-192696.extracted.spellcorrected.txt', 'EN-140-97726.extracted.spellcorrected.txt', 'EN-140-194718.extracted.spellcorrected.txt', 'EN-140-97702.extracted.spellcorrected.txt', 'EN-140-90530.extracted.spellcorrected.txt', 'EN-140-90397.extracted.spellcorrected.txt', 'EN-140-191587.extracted.spellcorrected.txt', 'EN-140-81757.extracted.spellcorrected.txt', 'EN-140-85859.extracted.spellcorrected.txt', 'EN-140-93034.extracted.spellcorrected.txt', 'EN-140-90095.extracted.spellcorrected.txt', 'EN-140-286381.extracted.spellcorrected.txt', 'EN-140-92800.extracted.spellcorrected.txt', 'EN-140-192528.extracted.spellcorrected.txt', 'EN-140-88375.extracted.spellcorrected.txt', 'EN-140-91303.extracted.spellcorrected.txt', 'EN-140-82597.extracted.spellcorrected.txt', 'EN-140-87139.extracted.spellcorrected.txt', 'EN-140-192747.extracted.spellcorrected.txt', 'EN-140-92771.extracted.spellcorrected.txt', 'EN-140-82248.extracted.spellcorrected.txt', 'EN-140-90785.extracted.spellcorrected.txt', 'EN-140-93361.extracted.spellcorrected.txt', 'EN-140-81912.extracted.spellcorrected.txt', 'EN-140-199634.extracted.spellcorrected.txt', 'EN-140-97947.extracted.spellcorrected.txt', 'EN-140-92726.extracted.spellcorrected.txt', 'EN-140-98812.extracted.spellcorrected.txt', 'EN-140-191075.extracted.spellcorrected.txt', 'EN-140-89587.extracted.spellcorrected.txt', 'EN-140-194389.extracted.spellcorrected.txt', 'EN-140-85466.extracted.spellcorrected.txt', 'EN-140-84688.extracted.spellcorrected.txt', 'EN-140-89977.extracted.spellcorrected.txt', 'EN-140-90901.extracted.spellcorrected.txt', 'EN-140-91667.extracted.spellcorrected.txt', 'EN-140-90411.extracted.spellcorrected.txt', 'EN-140-93907.extracted.spellcorrected.txt', 'EN-140-92866.extracted.spellcorrected.txt', 'EN-140-95314.extracted.spellcorrected.txt', 'EN-140-89953.extracted.spellcorrected.txt', 'EN-140-87760.extracted.spellcorrected.txt', 'EN-140-85623.extracted.spellcorrected.txt', 'EN-140-92988.extracted.spellcorrected.txt', 'EN-140-85007.extracted.spellcorrected.txt', 'EN-140-84536.extracted.spellcorrected.txt', 'EN-140-93912.extracted.spellcorrected.txt', 'EN-140-83847.extracted.spellcorrected.txt', 'EN-140-278582.extracted.spellcorrected.txt', 'EN-140-191115.extracted.spellcorrected.txt', 'EN-140-97827.extracted.spellcorrected.txt', 'EN-140-99025.extracted.spellcorrected.txt', 'EN-140-82659.extracted.spellcorrected.txt', 'EN-140-89881.extracted.spellcorrected.txt', 'EN-140-94968.extracted.spellcorrected.txt', 'EN-140-192572.extracted.spellcorrected.txt', 'EN-140-91138.extracted.spellcorrected.txt', 'EN-140-93362.extracted.spellcorrected.txt', 'EN-140-189750.extracted.spellcorrected.txt', 'EN-140-81425.extracted.spellcorrected.txt', 'EN-140-288992.extracted.spellcorrected.txt', 'EN-140-89742.extracted.spellcorrected.txt', 'EN-140-97769.extracted.spellcorrected.txt', 'EN-140-92418.extracted.spellcorrected.txt', 'EN-140-93579.extracted.spellcorrected.txt', 'EN-140-96882.extracted.spellcorrected.txt', 'EN-140-82673.extracted.spellcorrected.txt', 'EN-140-97035.extracted.spellcorrected.txt', 'EN-140-89391.extracted.spellcorrected.txt', 'EN-140-98397.extracted.spellcorrected.txt', 'EN-140-192654.extracted.spellcorrected.txt', 'EN-140-90436.extracted.spellcorrected.txt', 'EN-140-197835.extracted.spellcorrected.txt', 'EN-140-89676.extracted.spellcorrected.txt', 'EN-140-90807.extracted.spellcorrected.txt', 'EN-140-186984.extracted.spellcorrected.txt', 'EN-140-191088.extracted.spellcorrected.txt', 'EN-140-92004.extracted.spellcorrected.txt', 'EN-140-84660.extracted.spellcorrected.txt', 'EN-140-91028.extracted.spellcorrected.txt', 'EN-140-99787.extracted.spellcorrected.txt', 'EN-140-99341.extracted.spellcorrected.txt', 'EN-140-90250.extracted.spellcorrected.txt', 'EN-140-80816.extracted.spellcorrected.txt', 'EN-140-82015.extracted.spellcorrected.txt', 'EN-140-192582.extracted.spellcorrected.txt', 'EN-140-68830.extracted.spellcorrected.txt', 'EN-140-92169.extracted.spellcorrected.txt', 'EN-140-97841.extracted.spellcorrected.txt', 'EN-140-84992.extracted.spellcorrected.txt', 'EN-140-98572.extracted.spellcorrected.txt', 'EN-140-186798.extracted.spellcorrected.txt', 'EN-140-192479.extracted.spellcorrected.txt', 'EN-140-88061.extracted.spellcorrected.txt', 'EN-140-90528.extracted.spellcorrected.txt', 'EN-140-92692.extracted.spellcorrected.txt', 'EN-140-90450.extracted.spellcorrected.txt', 'EN-140-90940.extracted.spellcorrected.txt', 'EN-140-168839.extracted.spellcorrected.txt', 'EN-140-19791.extracted.spellcorrected.txt', 'EN-140-85544.extracted.spellcorrected.txt', 'EN-140-93037.extracted.spellcorrected.txt', 'EN-140-186196.extracted.spellcorrected.txt', 'EN-140-81953.extracted.spellcorrected.txt', 'EN-140-87491.extracted.spellcorrected.txt', 'EN-140-83598.extracted.spellcorrected.txt', 'EN-140-193451.extracted.spellcorrected.txt', 'EN-140-192751.extracted.spellcorrected.txt', 'EN-140-192397.extracted.spellcorrected.txt', 'EN-140-97908.extracted.spellcorrected.txt', 'EN-140-98853.extracted.spellcorrected.txt', 'EN-140-82562.extracted.spellcorrected.txt', 'EN-140-90858.extracted.spellcorrected.txt', 'EN-140-96683.extracted.spellcorrected.txt', 'EN-140-384092.extracted.spellcorrected.txt', 'EN-140-198249.extracted.spellcorrected.txt', 'EN-140-193363.extracted.spellcorrected.txt', 'EN-140-89751.extracted.spellcorrected.txt', 'EN-140-82499.extracted.spellcorrected.txt', 'EN-140-82867.extracted.spellcorrected.txt', 'EN-140-85452.extracted.spellcorrected.txt', 'EN-140-99442.extracted.spellcorrected.txt', 'EN-140-97761.extracted.spellcorrected.txt', 'EN-140-288874.extracted.spellcorrected.txt', 'EN-140-85028.extracted.spellcorrected.txt', 'EN-140-199747.extracted.spellcorrected.txt', 'EN-140-85331.extracted.spellcorrected.txt', 'EN-140-189441.extracted.spellcorrected.txt', 'EN-140-80566.extracted.spellcorrected.txt', 'EN-140-87953.extracted.spellcorrected.txt', 'EN-140-84933.extracted.spellcorrected.txt', 'EN-140-219833.extracted.spellcorrected.txt', 'EN-140-398069.extracted.spellcorrected.txt', 'EN-140-284475.extracted.spellcorrected.txt', 'EN-140-89543.extracted.spellcorrected.txt', 'EN-140-97791.extracted.spellcorrected.txt', 'EN-140-194708.extracted.spellcorrected.txt', 'EN-140-190808.extracted.spellcorrected.txt', 'EN-140-290717.extracted.spellcorrected.txt', 'EN-140-189799.extracted.spellcorrected.txt', 'EN-140-19701.extracted.spellcorrected.txt', 'EN-140-287259.extracted.spellcorrected.txt', 'EN-140-81333.extracted.spellcorrected.txt', 'EN-140-93749.extracted.spellcorrected.txt', 'EN-140-86360.extracted.spellcorrected.txt', 'EN-140-92524.extracted.spellcorrected.txt', 'EN-140-91241.extracted.spellcorrected.txt', 'EN-140-83588.extracted.spellcorrected.txt', 'EN-140-117417.extracted.spellcorrected.txt', 'EN-140-192387.extracted.spellcorrected.txt', 'EN-140-89212.extracted.spellcorrected.txt', 'EN-140-165949.extracted.spellcorrected.txt', 'EN-140-84846.extracted.spellcorrected.txt', 'EN-140-121991965.extracted.spellcorrected.txt', 'EN-140-197553.extracted.spellcorrected.txt', 'EN-140-68618.extracted.spellcorrected.txt', 'EN-140-189349.extracted.spellcorrected.txt', 'EN-140-98795.extracted.spellcorrected.txt', 'EN-140-168692.extracted.spellcorrected.txt', 'EN-140-190745.extracted.spellcorrected.txt', 'EN-140-192469.extracted.spellcorrected.txt', 'EN-140-98675.extracted.spellcorrected.txt', 'EN-140-82264.extracted.spellcorrected.txt', 'EN-140-99351.extracted.spellcorrected.txt', 'EN-140-189921.extracted.spellcorrected.txt', 'EN-140-84489.extracted.spellcorrected.txt', 'EN-140-81027.extracted.spellcorrected.txt', 'EN-140-193035.extracted.spellcorrected.txt', 'EN-140-95796.extracted.spellcorrected.txt', 'EN-140-19921.extracted.spellcorrected.txt', 'EN-140-190447.extracted.spellcorrected.txt', 'EN-140-290218.extracted.spellcorrected.txt', 'EN-140-386369.extracted.spellcorrected.txt', 'EN-140-92903.extracted.spellcorrected.txt', 'EN-140-84627.extracted.spellcorrected.txt', 'EN-140-89381.extracted.spellcorrected.txt', 'EN-140-194149.extracted.spellcorrected.txt', 'EN-140-84446.extracted.spellcorrected.txt', 'EN-140-95010.extracted.spellcorrected.txt', 'EN-140-165859.extracted.spellcorrected.txt', 'EN-140-83576.extracted.spellcorrected.txt', 'EN-140-96479.extracted.spellcorrected.txt', 'EN-140-289903.extracted.spellcorrected.txt', 'EN-140-19883.extracted.spellcorrected.txt', 'EN-140-190863.extracted.spellcorrected.txt', 'EN-140-94976.extracted.spellcorrected.txt', 'EN-140-121991844.extracted.spellcorrected.txt', 'EN-140-91347.extracted.spellcorrected.txt', 'EN-140-83934.extracted.spellcorrected.txt', 'EN-140-191850.extracted.spellcorrected.txt', 'EN-140-165866.extracted.spellcorrected.txt', 'EN-140-99590.extracted.spellcorrected.txt', 'EN-140-188826.extracted.spellcorrected.txt', 'EN-140-92844.extracted.spellcorrected.txt', 'EN-140-187968.extracted.spellcorrected.txt', 'EN-140-189442.extracted.spellcorrected.txt', 'EN-140-90783.extracted.spellcorrected.txt', 'EN-140-188945.extracted.spellcorrected.txt', 'EN-140-87166.extracted.spellcorrected.txt', 'EN-140-91415.extracted.spellcorrected.txt']\n",
      "388\n"
     ]
    }
   ],
   "source": [
    "en_file_list = os.listdir(\"/Users/samanthacreel/Documents/Dissertation/ZAEBUC spellcorrected/English spellcorrected 30-1-2021\")\n",
    "\n",
    "en_file_names = []\n",
    "\n",
    "for file in en_file_list:\n",
    "    if \".txt\" in file:\n",
    "        en_file_names.append(file)\n",
    "print(en_file_names)\n",
    "print(len(en_file_names))"
   ]
  },
  {
   "cell_type": "code",
   "execution_count": 7,
   "metadata": {},
   "outputs": [
    {
     "name": "stdout",
     "output_type": "stream",
     "text": [
      "['98231', '192155', '83165', '84488', '192586', '97068', '97412', '97705', '90308', '87782', '91170', '92245', '95062', '90092', '80823', '97236', '92581', '192171', '96671', '192949', '97981', '187556', '90635', '197898', '98023', '99584', '93931', '119813', '289073', '86741', '165904', '94320', '89580', '95156', '85891', '294378', '97823', '81723', '190122', '97964', '88399', '97333', '92874', '96463', '190706', '85838', '89774', '90873', '119150', '93285', '89249', '168718', '97525', '84014', '82986', '86817', '192218', '99443', '92054', '192922', '90857', '96682', '98089', '166122', '88788', '190176', '85999', '87102', '166095', '82755', '288097', '97113', '96735', '190317', '86855', '82310', '196987', '84792', '94052', '92956', '96903', '99201', '95921', '89064', '92616', '191515', '81303', '89373', '96120', '86047', '86032', '83404', '87682', '96883', '95099', '190499', '296843', '85828', '82789', '91113', '82490', '83139', '82239', '86027', '97455', '293472', '191937', '97945', '95601', '290747', '268469', '289115', '196776', '93547', '19632', '189525', '192707', '85294', '99212', '81952', '95365', '193838', '89653', '99933', '89199', '99438', '82332', '93459', '82748', '88225', '191743', '90813', '88780', '273084', '97652', '91246', '89908', '80688', '191242', '89645', '116710', '82252', '88938', '90626', '89415', '98704', '98135', '89674', '87852', '195100', '95136', '188847', '199101', '86193', '190307', '90847', '90557', '95626', '119831', '92132', '199818', '94176', '96339', '82791', '191794', '84522', '268819', '98148', '84687', '199951', '90410', '191859', '92103', '89976', '95973', '92201', '82421', '93360', '190855', '91705', '192490', '85472', '287997', '191006', '88480', '292703', '84417', '287810', '192696', '97726', '194718', '97702', '90530', '90397', '191587', '81757', '85859', '93034', '90095', '286381', '92800', '192528', '88375', '91303', '82597', '87139', '192747', '92771', '82248', '90785', '93361', '81912', '199634', '97947', '92726', '98812', '191075', '89587', '194389', '85466', '84688', '89977', '90901', '91667', '90411', '93907', '92866', '95314', '89953', '87760', '85623', '92988', '85007', '84536', '93912', '83847', '278582', '191115', '97827', '99025', '82659', '89881', '94968', '192572', '91138', '93362', '189750', '81425', '288992', '89742', '97769', '92418', '93579', '96882', '82673', '97035', '89391', '98397', '192654', '90436', '197835', '89676', '90807', '186984', '191088', '92004', '84660', '91028', '99787', '99341', '90250', '80816', '82015', '192582', '68830', '92169', '97841', '84992', '98572', '186798', '192479', '88061', '90528', '92692', '90450', '90940', '168839', '19791', '85544', '93037', '186196', '81953', '87491', '83598', '193451', '192751', '192397', '97908', '98853', '82562', '90858', '96683', '384092', '198249', '193363', '89751', '82499', '82867', '85452', '99442', '97761', '288874', '85028', '199747', '85331', '189441', '80566', '87953', '84933', '219833', '398069', '284475', '89543', '97791', '194708', '190808', '290717', '189799', '19701', '287259', '81333', '93749', '86360', '92524', '91241', '83588', '117417', '192387', '89212', '165949', '84846', '121991965', '197553', '68618', '189349', '98795', '168692', '190745', '192469', '98675', '82264', '99351', '189921', '84489', '81027', '193035', '95796', '19921', '190447', '290218', '386369', '92903', '84627', '89381', '194149', '84446', '95010', '165859', '83576', '96479', '289903', '19883', '190863', '94976', '121991844', '91347', '83934', '191850', '165866', '99590', '188826', '92844', '187968', '189442', '90783', '188945', '87166', '91415']\n",
      "388\n"
     ]
    }
   ],
   "source": [
    "import re\n",
    "pattern = 'EN-140-(.*)\\.ext'\n",
    "en_nums_only = []\n",
    "for filename in en_file_names:\n",
    "    en_nums = re.search(pattern, filename).group(1)\n",
    "    en_nums_only.append(en_nums)\n",
    "print(en_nums_only)\n",
    "print(len(en_nums_only))"
   ]
  },
  {
   "cell_type": "code",
   "execution_count": 8,
   "metadata": {},
   "outputs": [
    {
     "name": "stdout",
     "output_type": "stream",
     "text": [
      "['192586', '97068', '97705', '87782', '91170', '95062', '90092', '192171', '96671', '187556', '90635', '99584', '93931', '165904', '89580', '95156', '294378', '97964', '97333', '190706', '85838', '119150', '82986', '99443', '92054', '90857', '166122', '88788', '190176', '85999', '87102', '166095', '82755', '288097', '97113', '86855', '196987', '84792', '96903', '92616', '191515', '89373', '86047', '83404', '87682', '95099', '190499', '296843', '82490', '82239', '86027', '293472', '191937', '97945', '290747', '196776', '93547', '99212', '99933', '89199', '82332', '82748', '88225', '273084', '91246', '89908', '80688', '89645', '116710', '82252', '88938', '98704', '87852', '95136', '86193', '90847', '90557', '94176', '82791', '84522', '268819', '199951', '90410', '191859', '89976', '92201', '85472', '191006', '88480', '84417', '287810', '97702', '90397', '191587', '85859', '286381', '91303', '82597', '82248', '90785', '93361', '92726', '98812', '194389', '84688', '89977', '90901', '91667', '93907', '92866', '95314', '89953', '85623', '85007', '84536', '93912', '278582', '192572', '91138', '93362', '288992', '89742', '97769', '92418', '93579', '98397', '90436', '90807', '186984', '92004', '99341', '82015', '92169', '84992', '186798', '192479', '88061', '92692', '90450', '90940', '168839', '19791', '85544', '83598', '192397', '82562', '90858', '384092', '89751', '82499', '82867', '85452', '97761', '85028', '189441', '84933', '219833', '398069', '284475', '89543', '290717', '19701', '287259', '81333', '86360', '83588', '117417', '89212', '197553', '68618', '168692', '192469', '82264', '84489', '193035', '290218', '194149', '95010', '121991844', '165866', '189442', '87166', '91415']\n",
      "183\n"
     ]
    }
   ],
   "source": [
    "english_only = []\n",
    "for number in en_nums_only:\n",
    "    if number not in new_ar_nums:\n",
    "        english_only.append(number)\n",
    "print(english_only)\n",
    "print(len(english_only))"
   ]
  },
  {
   "cell_type": "code",
   "execution_count": 9,
   "metadata": {},
   "outputs": [
    {
     "name": "stdout",
     "output_type": "stream",
     "text": [
      "['89591', '188359', '192885', '294255', '83625', '189611', '191809', '81924', '91256']\n",
      "9\n"
     ]
    }
   ],
   "source": [
    "arabic_only = []\n",
    "for number in new_ar_nums:\n",
    "    if number not in en_nums_only:\n",
    "        arabic_only.append(number)\n",
    "print(arabic_only)\n",
    "print(len(arabic_only))"
   ]
  },
  {
   "cell_type": "code",
   "execution_count": 10,
   "metadata": {},
   "outputs": [
    {
     "name": "stdout",
     "output_type": "stream",
     "text": [
      "['84627', '89774', '91028', '191115', '186196', '190863', '97455', '99201', '86817', '191850', '99442', '195100', '165949', '85828', '99438', '19883', '90308', '96682', '91241', '96735', '188847', '192582', '87953', '191794', '91113', '89674', '19632', '97841', '90530', '85331', '82789', '98795', '92245', '97981', '190855', '88399', '85891', '98231', '81425', '192751', '85828', '89391', '89676', '90813', '99025', '87760', '82421', '98023', '192922', '119831', '386369', '83139', '98853', '188945', '83847', '98572', '289115', '292703', '90095', '96683', '194708', '82673', '192387', '198249', '97908', '94320', '197835', '97947', '84660', '89881', '96883', '80566', '192696', '97412', '94976', '89415', '91347', '190307', '84446', '199818', '96882', '192654', '121991965', '95601', '97525', '96463', '187968', '92581', '95973', '192155', '191242', '189525', '84488', '90626', '92956', '84014', '83934', '88780', '190447', '93285', '168718', '95365', '97035', '82310', '190122', '83576', '192490', '192949', '92874', '84846', '192528', '268469', '81027', '193363', '189799', '194718', '197898', '85294', '97827', '82659', '89381', '89653', '81303', '89064', '98148', '93037', '94052', '83165', '165859', '86741', '289073', '92132', '289903', '189349', '199747', '92771', '96479', '95796', '190808', '92800', '99351', '191088', '96339', '287997', '93034', '98089', '99590', '92903', '193838', '97726', '85466', '98135', '199101', '189921', '188826', '89249', '90528', '19921', '93749', '192707', '90411', '81952', '92524', '192218', '81912', '99787', '191075', '81757', '81953', '86032', '192747', '191743', '97236', '97652', '119813', '93360', '190745', '288874', '91705', '92103', '89587', '93459', '90783', '92988', '92844', '199634', '97823', '97791', '87139', '90873', '95626', '84687', '88375', '87491', '80823', '189750', '80816', '96120', '98675', '95921', '68830', '193451', '81723', '90250', '190317', '94968']\n",
      "206\n"
     ]
    }
   ],
   "source": [
    "matchinglist = []\n",
    "for num in new_ar_nums:\n",
    "    if num in en_nums_only:\n",
    "        matchinglist.append(num)\n",
    "print(matchinglist)\n",
    "print(len(matchinglist))"
   ]
  },
  {
   "cell_type": "code",
   "execution_count": 13,
   "metadata": {},
   "outputs": [],
   "source": [
    "with open(os.path.join(\"/Users/samanthacreel/Documents/Dissertation/ZAEBUC spellcorrected/Arabic spellcorrected 30-1-2021\",ar_file_list[0]),'r') as f:\n",
    "    lines = f.readlines()"
   ]
  },
  {
   "cell_type": "code",
   "execution_count": 15,
   "metadata": {},
   "outputs": [
    {
     "name": "stdout",
     "output_type": "stream",
     "text": [
      "['\\ufeff#Anon_ID\\t84627', '', 'التسامح هو شيء أساسي بالنسبة لنا كدولة عظيمة تستقبل العديد من الشعوب من مختلف البلدان، لذلك لا بد من أن نعسى دائما في تنمية هذه القيمة الأخلاقية، من خلال تثقيف المجتمع وتعليمهم باتخاذ المهارات اللازمة التي تساعد في تكثيف هذه القيمة الإنسانية، لذلك تسعى دولة الإمارات في إعطاء حصص لازمة في المدارس والجامعات تدعم هذه القيمة الأخلاقية فهي توفر العديد من الأشياء التي تسعى لترسيخ قيمة التسامح والتعايش باللغتين العربية والإنجليزية، وفي أثناء هذه الحصص يقوم الطلاب ببعض النقاشات والنشاطات التي تعلمهم أساليب الحياة الأخلاقية.', '', 'وأيضا دولتا تهتم في ترسيخ هذه القيمة من خلال الندوات والبرامج التي تشمل جميع الفئات العمرية.', '', 'لذلك نحن كأبناء دولة الإمارات العربية المتحدة يجب أن نكون مساهمين في تحقيق هذه القيمة التي يحرص عليها قادتنا الأعزاء، فنتمنى أن نصبح لهم خير من يمثل هذه القيمة التعايشية، تزامننا مع عامنا هذا عام التسامح المقتبس من والدنا المغفور له الشيخ زايد رحمه الله.', '']\n"
     ]
    }
   ],
   "source": [
    "lines = [i.rstrip('\\r\\n') for i in lines]\n",
    "print(lines[0:10])"
   ]
  },
  {
   "cell_type": "code",
   "execution_count": null,
   "metadata": {},
   "outputs": [],
   "source": [
    "word_lines = []\n",
    "ZAEBUC_Arabic_Folder = \"/Users/samanthacreel/Documents/Dissertation/ZAEBUC spellcorrected/Arabic spellcorrected 30-1-2021\"\n",
    "\n",
    "for filename in ar_file_list:\n",
    "    with open(os.path.join(ZAEBUC_Arabic_Folder,filename),'r') as f:\n",
    "        lines = f.readlines()\n",
    "        lines = [i.rstrip('\\r\\n') for i in lines]\n",
    "        word_lines.append(lines)"
   ]
  }
 ],
 "metadata": {
  "kernelspec": {
   "display_name": "Python 3",
   "language": "python",
   "name": "python3"
  },
  "language_info": {
   "codemirror_mode": {
    "name": "ipython",
    "version": 3
   },
   "file_extension": ".py",
   "mimetype": "text/x-python",
   "name": "python",
   "nbconvert_exporter": "python",
   "pygments_lexer": "ipython3",
   "version": "3.8.1"
  }
 },
 "nbformat": 4,
 "nbformat_minor": 4
}
