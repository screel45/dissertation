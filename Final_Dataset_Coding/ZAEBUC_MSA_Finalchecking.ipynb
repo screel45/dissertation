{
 "cells": [
  {
   "cell_type": "code",
   "execution_count": 15,
   "metadata": {},
   "outputs": [],
   "source": [
    "import pandas as pd\n",
    "# Load in both datasets\n",
    "ZAEBUC = pd.read_excel(\"/Users/samanthacreel/Documents/Dissertation/Final_Datasets/FINAL/ZAEBUCArabic_FinalDataset.xlsx\")\n",
    "MSA = pd.read_excel(\"/Users/samanthacreel/Documents/Dissertation/Final_Datasets/FINAL/L1Arabic_FinalDataset.xlsx\")\n",
    "\n",
    "\n",
    "\n",
    "\n",
    "# Export new ZAEBUC df as final dataset"
   ]
  },
  {
   "cell_type": "code",
   "execution_count": 16,
   "metadata": {},
   "outputs": [
    {
     "name": "stdout",
     "output_type": "stream",
     "text": [
      "428\n",
      "828\n",
      "سبب في\n",
      "سبب في\n",
      "سبب في\n",
      "سبب في\n"
     ]
    }
   ],
   "source": [
    "# Check first if there is anything in LEMMA_PREP in ZAEBUC that is not in LEMMA_PREP in MSA\n",
    "ZAEBUC_LPs = ZAEBUC[\"LEMMA_PREP\"].tolist()\n",
    "MSA_LPs = MSA[\"LEMMA_PREP\"].tolist()\n",
    "\n",
    "print(len(ZAEBUC_LPs))\n",
    "print(len(MSA_LPs))\n",
    "\n",
    "for item in ZAEBUC_LPs:\n",
    "    if item not in MSA_LPs:\n",
    "        print(item)"
   ]
  },
  {
   "cell_type": "code",
   "execution_count": 5,
   "metadata": {},
   "outputs": [
    {
     "data": {
      "text/html": [
       "<div>\n",
       "<style scoped>\n",
       "    .dataframe tbody tr th:only-of-type {\n",
       "        vertical-align: middle;\n",
       "    }\n",
       "\n",
       "    .dataframe tbody tr th {\n",
       "        vertical-align: top;\n",
       "    }\n",
       "\n",
       "    .dataframe thead th {\n",
       "        text-align: right;\n",
       "    }\n",
       "</style>\n",
       "<table border=\"1\" class=\"dataframe\">\n",
       "  <thead>\n",
       "    <tr style=\"text-align: right;\">\n",
       "      <th></th>\n",
       "      <th>Unnamed: 0</th>\n",
       "      <th>Unnamed: 0.1</th>\n",
       "      <th>N</th>\n",
       "      <th>Concordance</th>\n",
       "      <th>Translation</th>\n",
       "      <th>VPC</th>\n",
       "      <th>Preposition</th>\n",
       "      <th>Lemma</th>\n",
       "      <th>LEMMA_PREP</th>\n",
       "      <th>Meaning</th>\n",
       "      <th>...</th>\n",
       "      <th>Sect. Pos.</th>\n",
       "      <th>FILE_NUM</th>\n",
       "      <th>File</th>\n",
       "      <th>Date</th>\n",
       "      <th>%</th>\n",
       "      <th>Hit</th>\n",
       "      <th>Unnamed: 0.1.1</th>\n",
       "      <th>Unnamed: 0.1.1.1</th>\n",
       "      <th>Unnamed: 4</th>\n",
       "      <th>Unnamed: 0.1.1.1.1</th>\n",
       "    </tr>\n",
       "  </thead>\n",
       "  <tbody>\n",
       "  </tbody>\n",
       "</table>\n",
       "<p>0 rows × 38 columns</p>\n",
       "</div>"
      ],
      "text/plain": [
       "Empty DataFrame\n",
       "Columns: [Unnamed: 0, Unnamed: 0.1, N, Concordance, Translation, VPC, Preposition, Lemma, LEMMA_PREP, Meaning, Type, GT, Order, INT_MAT, R, VN_PART, VN, VNR, Set, Tag, Word #, Sent. #, Sent. Pos., Para. #, Para. Pos., Head. #, Head. Pos., Sect. #, Sect. Pos., FILE_NUM, File, Date, %, Hit, Unnamed: 0.1.1, Unnamed: 0.1.1.1, Unnamed: 4, Unnamed: 0.1.1.1.1]\n",
       "Index: []\n",
       "\n",
       "[0 rows x 38 columns]"
      ]
     },
     "execution_count": 5,
     "metadata": {},
     "output_type": "execute_result"
    }
   ],
   "source": [
    "# If there is, delete those rows\n",
    "\n",
    "ZAEBUC_df = ZAEBUC[ZAEBUC['LEMMA_PREP'].isin([MSA_LPs])]\n",
    "ZAEBUC_df"
   ]
  },
  {
   "cell_type": "code",
   "execution_count": null,
   "metadata": {},
   "outputs": [],
   "source": []
  }
 ],
 "metadata": {
  "kernelspec": {
   "display_name": "Python 3",
   "language": "python",
   "name": "python3"
  },
  "language_info": {
   "codemirror_mode": {
    "name": "ipython",
    "version": 3
   },
   "file_extension": ".py",
   "mimetype": "text/x-python",
   "name": "python",
   "nbconvert_exporter": "python",
   "pygments_lexer": "ipython3",
   "version": "3.8.1"
  }
 },
 "nbformat": 4,
 "nbformat_minor": 4
}
